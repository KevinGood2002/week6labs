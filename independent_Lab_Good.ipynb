{
 "cells": [
  {
   "cell_type": "markdown",
   "id": "578f5d6a-ce47-439c-b51e-02317eb36597",
   "metadata": {},
   "source": [
    "### Create lists"
   ]
  },
  {
   "cell_type": "code",
   "execution_count": 2,
   "id": "2fa6ca54-4d2d-44d4-b62a-06426c671d63",
   "metadata": {},
   "outputs": [],
   "source": [
    "first_name = [\"Carmen\", \"Sydney\", \"Neil\", \"Marcus\"]\n",
    "last_name = [\"Berzatto\", \"Adamu\", \"Fak\", \"Brooks\"]\n",
    "major = [\"Communications\", \"Engineering\", \"Business\", \"Sociology\"]\n",
    "gpa = [3.5, 3.8, 2.9, 2.7]\n",
    "violation = [\"None\", \"None\", \"None\", \"None\"]\n",
    "violation_types = [\n",
    "    \"Copying homework\",\n",
    "    \"Cheating on exam\",\n",
    "    \"Plagiarism\",\n",
    "    \"Cheating on quiz\",\n",
    "    \"Writing paper for another student\"\n",
    "]"
   ]
  },
  {
   "cell_type": "markdown",
   "id": "d5c852bc-c9a6-4239-9cc4-d120dea208cd",
   "metadata": {},
   "source": [
    "### Menu"
   ]
  },
  {
   "cell_type": "code",
   "execution_count": 4,
   "id": "4a3a61de-30c2-4cfe-9cf5-392145f423ce",
   "metadata": {
    "scrolled": true
   },
   "outputs": [
    {
     "name": "stdout",
     "output_type": "stream",
     "text": [
      "\n",
      "--- Grade Entry Menu ---\n",
      "1. Student Information Query\n",
      "2. Student Information Entry\n",
      "3. Query GPA Metrics\n",
      "4. Academic Violations\n",
      "5. Quit Program\n"
     ]
    },
    {
     "name": "stdin",
     "output_type": "stream",
     "text": [
      "Select an option:  3\n"
     ]
    },
    {
     "name": "stdout",
     "output_type": "stream",
     "text": [
      "\n",
      "GPA Metric Query:\n",
      "1. Max GPA\n",
      "2. Min GPA\n",
      "3. Average GPA\n"
     ]
    },
    {
     "name": "stdin",
     "output_type": "stream",
     "text": [
      "Select a metric to query:  3\n"
     ]
    },
    {
     "name": "stdout",
     "output_type": "stream",
     "text": [
      "Average GPA: 3.225\n",
      "\n",
      "--- Grade Entry Menu ---\n",
      "1. Student Information Query\n",
      "2. Student Information Entry\n",
      "3. Query GPA Metrics\n",
      "4. Academic Violations\n",
      "5. Quit Program\n"
     ]
    },
    {
     "name": "stdin",
     "output_type": "stream",
     "text": [
      "Select an option:  2\n"
     ]
    },
    {
     "name": "stdout",
     "output_type": "stream",
     "text": [
      "\n",
      "--- Add New Student ---\n"
     ]
    },
    {
     "name": "stdin",
     "output_type": "stream",
     "text": [
      "First name:  Kevin\n",
      "Last name:  Good\n",
      "Major:  BMIS\n",
      "GPA:  3.6\n"
     ]
    },
    {
     "name": "stdout",
     "output_type": "stream",
     "text": [
      "Student added successfully!\n",
      "\n",
      "--- Grade Entry Menu ---\n",
      "1. Student Information Query\n",
      "2. Student Information Entry\n",
      "3. Query GPA Metrics\n",
      "4. Academic Violations\n",
      "5. Quit Program\n"
     ]
    },
    {
     "name": "stdin",
     "output_type": "stream",
     "text": [
      "Select an option:  2\n"
     ]
    },
    {
     "name": "stdout",
     "output_type": "stream",
     "text": [
      "\n",
      "--- Add New Student ---\n"
     ]
    },
    {
     "name": "stdin",
     "output_type": "stream",
     "text": [
      "First name:  Declan\n",
      "Last name:  Mccabe\n",
      "Major:  Business\n",
      "GPA:  4.0\n"
     ]
    },
    {
     "name": "stdout",
     "output_type": "stream",
     "text": [
      "Student added successfully!\n",
      "\n",
      "--- Grade Entry Menu ---\n",
      "1. Student Information Query\n",
      "2. Student Information Entry\n",
      "3. Query GPA Metrics\n",
      "4. Academic Violations\n",
      "5. Quit Program\n"
     ]
    },
    {
     "name": "stdin",
     "output_type": "stream",
     "text": [
      "Select an option:  3\n"
     ]
    },
    {
     "name": "stdout",
     "output_type": "stream",
     "text": [
      "\n",
      "GPA Metric Query:\n",
      "1. Max GPA\n",
      "2. Min GPA\n",
      "3. Average GPA\n"
     ]
    },
    {
     "name": "stdin",
     "output_type": "stream",
     "text": [
      "Select a metric to query:  3\n"
     ]
    },
    {
     "name": "stdout",
     "output_type": "stream",
     "text": [
      "Average GPA: 3.4166666666666665\n",
      "\n",
      "--- Grade Entry Menu ---\n",
      "1. Student Information Query\n",
      "2. Student Information Entry\n",
      "3. Query GPA Metrics\n",
      "4. Academic Violations\n",
      "5. Quit Program\n"
     ]
    },
    {
     "name": "stdin",
     "output_type": "stream",
     "text": [
      "Select an option:  4\n"
     ]
    },
    {
     "name": "stdout",
     "output_type": "stream",
     "text": [
      "\n",
      "Students:\n",
      "1. Carmen Berzatto\n",
      "2. Sydney Adamu\n",
      "3. Neil Fak\n",
      "4. Marcus Brooks\n",
      "5. Kevin Good\n",
      "6. Declan Mccabe\n"
     ]
    },
    {
     "name": "stdin",
     "output_type": "stream",
     "text": [
      "Select a student by number:  5\n"
     ]
    },
    {
     "name": "stdout",
     "output_type": "stream",
     "text": [
      "\n",
      "Academic Violations:\n",
      "1. Copying homework\n",
      "2. Cheating on exam\n",
      "3. Plagiarism\n",
      "4. Cheating on quiz\n",
      "5. Writing paper for another student\n"
     ]
    },
    {
     "name": "stdin",
     "output_type": "stream",
     "text": [
      "Select a violation number:  5\n"
     ]
    },
    {
     "name": "stdout",
     "output_type": "stream",
     "text": [
      "Violation recorded.\n",
      "\n",
      "--- Grade Entry Menu ---\n",
      "1. Student Information Query\n",
      "2. Student Information Entry\n",
      "3. Query GPA Metrics\n",
      "4. Academic Violations\n",
      "5. Quit Program\n"
     ]
    },
    {
     "name": "stdin",
     "output_type": "stream",
     "text": [
      "Select an option:  4\n"
     ]
    },
    {
     "name": "stdout",
     "output_type": "stream",
     "text": [
      "\n",
      "Students:\n",
      "1. Carmen Berzatto\n",
      "2. Sydney Adamu\n",
      "3. Neil Fak\n",
      "4. Marcus Brooks\n",
      "5. Kevin Good\n",
      "6. Declan Mccabe\n"
     ]
    },
    {
     "name": "stdin",
     "output_type": "stream",
     "text": [
      "Select a student by number:  1\n"
     ]
    },
    {
     "name": "stdout",
     "output_type": "stream",
     "text": [
      "\n",
      "Academic Violations:\n",
      "1. Copying homework\n",
      "2. Cheating on exam\n",
      "3. Plagiarism\n",
      "4. Cheating on quiz\n",
      "5. Writing paper for another student\n"
     ]
    },
    {
     "name": "stdin",
     "output_type": "stream",
     "text": [
      "Select a violation number:  3\n"
     ]
    },
    {
     "name": "stdout",
     "output_type": "stream",
     "text": [
      "Violation recorded.\n",
      "\n",
      "--- Grade Entry Menu ---\n",
      "1. Student Information Query\n",
      "2. Student Information Entry\n",
      "3. Query GPA Metrics\n",
      "4. Academic Violations\n",
      "5. Quit Program\n"
     ]
    },
    {
     "name": "stdin",
     "output_type": "stream",
     "text": [
      "Select an option:  1\n"
     ]
    },
    {
     "name": "stdout",
     "output_type": "stream",
     "text": [
      "\n",
      "--- Student List ---\n",
      "1. Carmen Berzatto, Major: Communications, GPA: 3.5, Violation: Plagiarism\n",
      "2. Sydney Adamu, Major: Engineering, GPA: 3.8, Violation: None\n",
      "3. Neil Fak, Major: Business, GPA: 2.9, Violation: None\n",
      "4. Marcus Brooks, Major: Sociology, GPA: 2.7, Violation: None\n",
      "5. Kevin Good, Major: BMIS, GPA: 3.6, Violation: Writing paper for another student\n",
      "6. Declan Mccabe, Major: Business, GPA: 4.0, Violation: None\n",
      "\n",
      "--- Grade Entry Menu ---\n",
      "1. Student Information Query\n",
      "2. Student Information Entry\n",
      "3. Query GPA Metrics\n",
      "4. Academic Violations\n",
      "5. Quit Program\n"
     ]
    },
    {
     "name": "stdin",
     "output_type": "stream",
     "text": [
      "Select an option:  5\n"
     ]
    },
    {
     "name": "stdout",
     "output_type": "stream",
     "text": [
      "Exiting program.\n"
     ]
    }
   ],
   "source": [
    "###menu\n",
    "in_use = True\n",
    "while in_use == True:\n",
    "    print(\"\\n--- Grade Entry Menu ---\")\n",
    "    print(\"1. Student Information Query\")\n",
    "    print(\"2. Student Information Entry\")\n",
    "    print(\"3. Query GPA Metrics\")\n",
    "    print(\"4. Academic Violations\")\n",
    "    print(\"5. Quit Program\")\n",
    "    choice = input(\"Select an option: \")\n",
    "\n",
    "    if choice == \"1\":\n",
    "        print(\"\\n--- Student List ---\")\n",
    "        for i in range(len(first_name)):\n",
    "            print(f\"{i + 1}. {first_name[i]} {last_name[i]}, Major: {major[i]}, GPA: {gpa[i]}, Violation: {violation[i]}\")\n",
    "\n",
    "    elif choice == \"2\":\n",
    "        print(\"\\n--- Add New Student ---\")\n",
    "        first = input(\"First name: \")\n",
    "        last = input(\"Last name: \")\n",
    "        new_major = input(\"Major: \")\n",
    "        new_gpa = float(input(\"GPA: \"))\n",
    "\n",
    "        first_name.append(first)\n",
    "        last_name.append(last)\n",
    "        major.append(new_major)\n",
    "        gpa.append(new_gpa)\n",
    "        violation.append(\"None\")\n",
    "        print(\"Student added successfully!\")\n",
    "\n",
    "    elif choice == \"3\":\n",
    "        print(\"\\nGPA Metric Query:\")\n",
    "        print(\"1. Max GPA\")\n",
    "        print(\"2. Min GPA\")\n",
    "        print(\"3. Average GPA\")\n",
    "        metric_choice = input(\"Select a metric to query: \")\n",
    "\n",
    "        if metric_choice == \"1\":\n",
    "            print(\"Max GPA:\", max(gpa))\n",
    "        elif metric_choice == \"2\":\n",
    "            print(\"Min GPA:\", min(gpa))\n",
    "        elif metric_choice == \"3\":\n",
    "            print(f\"Average GPA: {sum(gpa)/len(gpa):}\")\n",
    "        else:\n",
    "            print(\"Invalid option.\")\n",
    "    elif choice == \"4\":\n",
    "        print(\"\\nStudents:\")\n",
    "        for i in range(len(first_name)):\n",
    "            print(f\"{i + 1}. {first_name[i]} {last_name[i]}\")\n",
    "        try:\n",
    "            index = int(input(\"Select a student by number: \")) - 1\n",
    "            if index < 0 or index >= len(first_name):\n",
    "                print(\"Invalid student selection.\")\n",
    "            else:\n",
    "                print(\"\\nAcademic Violations:\")\n",
    "                for j in range(len(violation_types)):\n",
    "                    print(f\"{j + 1}. {violation_types[j]}\")\n",
    "                v_index = int(input(\"Select a violation number: \")) - 1\n",
    "                if v_index < 0 or v_index >= len(violation_types):\n",
    "                    print(\"Invalid violation number.\")\n",
    "                else:\n",
    "                    violation[index] = violation_types[v_index]\n",
    "                    print(\"Violation recorded.\")\n",
    "        except ValueError:\n",
    "            print(\"Invalid input.\")\n",
    "\n",
    "    elif choice == \"5\":\n",
    "        print(\"Exiting program.\")\n",
    "        in_use = False\n",
    "\n",
    "    else:\n",
    "        print(\"Invalid option. Please try again.\")"
   ]
  },
  {
   "cell_type": "markdown",
   "id": "e3975eb0-e6a3-48f3-be22-49628c894f5d",
   "metadata": {},
   "source": [
    "### Reference\n",
    "https://chatgpt.com/c/67f48d1a-c67c-8001-af39-428e4915047a"
   ]
  }
 ],
 "metadata": {
  "kernelspec": {
   "display_name": "Python [conda env:base] *",
   "language": "python",
   "name": "conda-base-py"
  },
  "language_info": {
   "codemirror_mode": {
    "name": "ipython",
    "version": 3
   },
   "file_extension": ".py",
   "mimetype": "text/x-python",
   "name": "python",
   "nbconvert_exporter": "python",
   "pygments_lexer": "ipython3",
   "version": "3.12.7"
  }
 },
 "nbformat": 4,
 "nbformat_minor": 5
}
