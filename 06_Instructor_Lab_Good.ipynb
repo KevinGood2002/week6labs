{
 "cells": [
  {
   "cell_type": "markdown",
   "id": "6c7a0db3-e84d-49ec-b557-85dddfce5ad2",
   "metadata": {},
   "source": [
    "### Import modules"
   ]
  },
  {
   "cell_type": "code",
   "execution_count": 3,
   "id": "9171902f-ee4b-4116-a1b8-5b7a68695cac",
   "metadata": {},
   "outputs": [],
   "source": [
    "import random as rand\n"
   ]
  },
  {
   "cell_type": "markdown",
   "id": "7848726d-3fc0-4a7a-8116-5a7e04cec390",
   "metadata": {},
   "source": [
    "### Create Variables"
   ]
  },
  {
   "cell_type": "code",
   "execution_count": null,
   "id": "410b6778-972a-4b7b-9431-010efd8a26cd",
   "metadata": {},
   "outputs": [],
   "source": [
    "fortune_responses = [\n",
    "    \"It is certain\",\n",
    "    \"It is decidedly so\",\n",
    "    \"That question requires greater monetary compensation\",\n",
    "    \"Reply is hazy; try again, with more money\",\n",
    "    \"Concentrate and ask again\",\n",
    "    \"My reply is no\",\n",
    "    \"Outlook is not so good\",\n",
    "    \"Very doubtful\",\n",
    "    \"Your answer lays within\",\n",
    "    \"Consult someone close to you\",\n",
    "    \"Find peace in what you do not know\"]\n",
    "question_asked = False\n",
    "service_cost = 0.0\n",
    "\n",
    "questions = []\n",
    "responses = []"
   ]
  },
  {
   "cell_type": "markdown",
   "id": "4aa57643-938b-4c5e-a80a-e9823cd474bd",
   "metadata": {},
   "source": [
    "### Create Nested Loop"
   ]
  },
  {
   "cell_type": "code",
   "execution_count": 18,
   "id": "510f0805-0a41-4424-8664-4625a034f17b",
   "metadata": {},
   "outputs": [
    {
     "name": "stdin",
     "output_type": "stream",
     "text": [
      "Welcome to the all-seeing computer!\n",
      "1. Ask a question\n",
      "2. Review questions and responses\n",
      "3. Complete services and pay\n",
      " 1\n",
      "What is your question\n",
      " Should I go on a trip\n"
     ]
    },
    {
     "name": "stdout",
     "output_type": "stream",
     "text": [
      "That question requires greater monetary compensation\n"
     ]
    },
    {
     "name": "stdin",
     "output_type": "stream",
     "text": [
      "1. Ask another question\n",
      "2. Review questions and responses\n",
      "3. Complete services and pay\n",
      " Where should I get money\n"
     ]
    },
    {
     "name": "stdout",
     "output_type": "stream",
     "text": [
      "please input a number between 1 and 3\n"
     ]
    },
    {
     "name": "stdin",
     "output_type": "stream",
     "text": [
      "1. Ask another question\n",
      "2. Review questions and responses\n",
      "3. Complete services and pay\n",
      " 1\n",
      "What is your question\n",
      " Where should I get money\n"
     ]
    },
    {
     "name": "stdout",
     "output_type": "stream",
     "text": [
      "Reply is hazy; try again, with more money\n"
     ]
    },
    {
     "name": "stdin",
     "output_type": "stream",
     "text": [
      "1. Ask another question\n",
      "2. Review questions and responses\n",
      "3. Complete services and pay\n",
      " 2\n"
     ]
    },
    {
     "name": "stdout",
     "output_type": "stream",
     "text": [
      "Question: \"Should I go on a trip\"\n",
      "Response: \"That question requires greater monetary compensation\"\n",
      "\n",
      "Question: \"Where should I get money\"\n",
      "Response: \"Reply is hazy; try again, with more money\"\n",
      "\n"
     ]
    },
    {
     "name": "stdin",
     "output_type": "stream",
     "text": [
      "1. Ask another question\n",
      "2. Review questions and responses\n",
      "3. Complete services and pay\n",
      " 3\n"
     ]
    },
    {
     "name": "stdout",
     "output_type": "stream",
     "text": [
      "Thank you for visiting the all-seeing computer.\n",
      "You asked 2 questions. You owe $60.0 for today's services.\n"
     ]
    }
   ],
   "source": [
    "end_service = False\n",
    "prompt_text = \"Welcome to the all-seeing computer!\\n1. Ask a question\\n2. Review questions and responses\\n3. Complete services and pay\\n\"\n",
    "\n",
    "while end_service == False:\n",
    "\n",
    "    if question_asked == True:\n",
    "        prompt_text = \"1. Ask another question\\n2. Review questions and responses\\n3. Complete services and pay\\n\"\n",
    "        selection = input(prompt_text)\n",
    "    else:\n",
    "        prompt_text = prompt_text\n",
    "        selection = input(prompt_text)\n",
    "\n",
    "        \n",
    "    if selection == \"1\":\n",
    "        question = input(\"What is your question\\n\")\n",
    "        questions.append(question)\n",
    "        question_asked = True\n",
    "        response = rand.choice(fortune_responses)\n",
    "        print(response)\n",
    "        responses.append(response)\n",
    "        \n",
    "        service_cost = service_cost + 30.0\n",
    "    elif selection == \"2\":\n",
    "        for i in range(len(questions)):\n",
    "            print(f'Question: \"{questions[i]}\"\\nResponse: \"{responses[i]}\"\\n')\n",
    "    \n",
    "    elif selection == \"3\":\n",
    "        print(\"Thank you for visiting the all-seeing computer.\")\n",
    "        print(f\"You asked {len(questions)} questions. You owe ${service_cost} for today's services.\")\n",
    "        end_service = True\n",
    "    else:\n",
    "        print(\"please input a number between 1 and 3\")\n",
    "\n",
    "\n",
    "\n",
    "\n",
    "\n",
    "    \n",
    "    \n",
    "\n",
    "\n",
    "    "
   ]
  },
  {
   "cell_type": "markdown",
   "id": "2b8fad8a-65f6-4cd7-8326-9dacdb36787a",
   "metadata": {},
   "source": [
    "### References\n",
    "chatgpt help: https://chatgpt.com/c/67f45fc9-a928-8001-8547-eb1fcd6a9a3e"
   ]
  },
  {
   "cell_type": "code",
   "execution_count": null,
   "id": "5e5b4dee-c9e2-4a46-843c-46a6c9bd8052",
   "metadata": {},
   "outputs": [],
   "source": []
  }
 ],
 "metadata": {
  "kernelspec": {
   "display_name": "Python [conda env:base] *",
   "language": "python",
   "name": "conda-base-py"
  },
  "language_info": {
   "codemirror_mode": {
    "name": "ipython",
    "version": 3
   },
   "file_extension": ".py",
   "mimetype": "text/x-python",
   "name": "python",
   "nbconvert_exporter": "python",
   "pygments_lexer": "ipython3",
   "version": "3.12.7"
  }
 },
 "nbformat": 4,
 "nbformat_minor": 5
}
